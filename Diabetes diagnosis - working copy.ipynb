{
 "cells": [
  {
   "cell_type": "code",
   "execution_count": 71,
   "metadata": {
    "scrolled": true
   },
   "outputs": [],
   "source": [
    "\n",
    "\n",
    "# Author - Narayan Krishnamoorthy - October 3rd - First ever genuine attempt to write a predictive algorithm\n",
    "# We are trying to predict the onset of diabetes based on diagnostic information\n",
    "# The dataset has been sourced from kaggle - under Pima Indians Diabetes Database\n",
    "\n",
    "# Importing all the rockstar packages that are required to make this a meaningful venture\n",
    "\n",
    "\n",
    "import pandas as pd\n",
    "import numpy as np\n",
    "from sklearn.linear_model import LogisticRegression\n",
    "from sklearn.linear_model import Ridge\n",
    "from sklearn.naive_bayes import MultinomialNB\n",
    "from sklearn.naive_bayes import BernoulliNB\n",
    "from sklearn.ensemble import RandomForestClassifier\n",
    "from sklearn.ensemble import ExtraTreesClassifier\n",
    "from sklearn.tree import DecisionTreeClassifier\n",
    "from sklearn.cross_validation import cross_val_score\n",
    "from sklearn.metrics import roc_auc_score\n",
    "#from sklearn.datasets import make_classification - \n",
    "\n",
    "from sklearn import metrics\n",
    "import seaborn as sns\n",
    "import matplotlib.pyplot as plt\n",
    "from sklearn.metrics import confusion_matrix\n",
    "from sklearn.metrics import mean_squared_error\n",
    "from sklearn.metrics import accuracy_score\n",
    "from sklearn.metrics import precision_score\n",
    "from sklearn.metrics import recall_score\n",
    "from sklearn.metrics import f1_score\n",
    "from sklearn.cross_validation import train_test_split\n",
    "from math import sqrt\n",
    "%matplotlib inline\n"
   ]
  },
  {
   "cell_type": "code",
   "execution_count": 72,
   "metadata": {},
   "outputs": [
    {
     "name": "stdout",
     "output_type": "stream",
     "text": [
      "       Pregnancies     Glucose  BloodPressure  SkinThickness     Insulin  \\\n",
      "count   768.000000  768.000000     768.000000     768.000000  768.000000   \n",
      "mean      3.845052  120.894531      69.105469      20.536458   79.799479   \n",
      "std       3.369578   31.972618      19.355807      15.952218  115.244002   \n",
      "min       0.000000    0.000000       0.000000       0.000000    0.000000   \n",
      "25%       1.000000   99.000000      62.000000       0.000000    0.000000   \n",
      "50%       3.000000  117.000000      72.000000      23.000000   30.500000   \n",
      "75%       6.000000  140.250000      80.000000      32.000000  127.250000   \n",
      "max      17.000000  199.000000     122.000000      99.000000  846.000000   \n",
      "\n",
      "              BMI  DiabetesPedigreeFunction         Age     Outcome  \n",
      "count  768.000000                768.000000  768.000000  768.000000  \n",
      "mean    31.992578                  0.471876   33.240885    0.348958  \n",
      "std      7.884160                  0.331329   11.760232    0.476951  \n",
      "min      0.000000                  0.078000   21.000000    0.000000  \n",
      "25%     27.300000                  0.243750   24.000000    0.000000  \n",
      "50%     32.000000                  0.372500   29.000000    0.000000  \n",
      "75%     36.600000                  0.626250   41.000000    1.000000  \n",
      "max     67.100000                  2.420000   81.000000    1.000000  \n"
     ]
    }
   ],
   "source": [
    "# Reading the csv file which happens to be on my PC\n",
    "diagnostic = pd.read_csv('diabetes.csv')\n",
    "\n",
    "# Attributes:\n",
    "# Pregnancies: Number of times pregnant\n",
    "# Glucose: Plasma glucose concentration a 2 hours in an oral glucose tolerance test\n",
    "# BloodPressure: Diastolic blood pressure (mm Hg)\n",
    "# SkinThickness: Triceps skin fold thickness (mm)\n",
    "# Insulin: 2-Hour serum insulin (mu U/ml)\n",
    "# BMI: Body mass index (weight in kg/(height in m)^2)\n",
    "# DiabetesPedigreeFunction: Diabetes pedigree function\n",
    "# Age: Age (years)\n",
    "# Outcome: Class variable (0 or 1)\n",
    "\n",
    "# Displaying the leading records in this file\n",
    "diagnostic.head()\n",
    "print(diagnostic.describe())\n",
    "\n"
   ]
  },
  {
   "cell_type": "code",
   "execution_count": 73,
   "metadata": {
    "collapsed": true
   },
   "outputs": [],
   "source": [
    "# There are missing values that need to be treated. \n",
    "diagnostic['Glucose'] = diagnostic['Glucose'].replace(0,diagnostic['Glucose'][diagnostic['Glucose']!=0].mean())\n",
    "diagnostic['Pregnancies'] = diagnostic['Pregnancies'].replace(0,diagnostic['Pregnancies'][diagnostic['Pregnancies']!=0].mean())\n",
    "diagnostic['BloodPressure'] = diagnostic['BloodPressure'].replace(0,diagnostic['BloodPressure'][diagnostic['BloodPressure']!=0].mean())\n",
    "diagnostic['SkinThickness'] = diagnostic['SkinThickness'].replace(0,diagnostic['SkinThickness'][diagnostic['SkinThickness']!=0].mean())\n",
    "diagnostic['Insulin'] = diagnostic['Insulin'].replace(0,diagnostic['Insulin'][diagnostic['Insulin']!=0].mean())\n",
    "diagnostic['BMI'] = diagnostic['BMI'].replace(0,diagnostic['BMI'][diagnostic['BMI']!=0].mean())\n",
    "\n"
   ]
  },
  {
   "cell_type": "code",
   "execution_count": 74,
   "metadata": {},
   "outputs": [
    {
     "name": "stdout",
     "output_type": "stream",
     "text": [
      "       Pregnancies     Glucose  BloodPressure  SkinThickness     Insulin  \\\n",
      "count   768.000000  768.000000     768.000000     768.000000  768.000000   \n",
      "mean      4.494673  121.686763      72.405184      29.153420  155.548223   \n",
      "std       2.975395   30.435949      12.096346       8.790942   85.021108   \n",
      "min       1.000000   44.000000      24.000000       7.000000   14.000000   \n",
      "25%       2.000000   99.750000      64.000000      25.000000  121.500000   \n",
      "50%       4.494673  117.000000      72.202592      29.153420  155.548223   \n",
      "75%       6.000000  140.250000      80.000000      32.000000  155.548223   \n",
      "max      17.000000  199.000000     122.000000      99.000000  846.000000   \n",
      "\n",
      "              BMI  DiabetesPedigreeFunction         Age     Outcome  \n",
      "count  768.000000                768.000000  768.000000  768.000000  \n",
      "mean    32.457464                  0.471876   33.240885    0.348958  \n",
      "std      6.875151                  0.331329   11.760232    0.476951  \n",
      "min     18.200000                  0.078000   21.000000    0.000000  \n",
      "25%     27.500000                  0.243750   24.000000    0.000000  \n",
      "50%     32.400000                  0.372500   29.000000    0.000000  \n",
      "75%     36.600000                  0.626250   41.000000    1.000000  \n",
      "max     67.100000                  2.420000   81.000000    1.000000  \n"
     ]
    }
   ],
   "source": [
    "# After missing values treatment, do a quick data profile check\n",
    "\n",
    "print(diagnostic.describe())"
   ]
  },
  {
   "cell_type": "code",
   "execution_count": 75,
   "metadata": {},
   "outputs": [
    {
     "data": {
      "text/plain": [
       "<matplotlib.axes._subplots.AxesSubplot at 0x20567523e10>"
      ]
     },
     "execution_count": 75,
     "metadata": {},
     "output_type": "execute_result"
    },
    {
     "data": {
      "image/png": "[encoded data removed]",
      "text/plain": [
       "<matplotlib.figure.Figure at 0x205675f3ef0>"
      ]
     },
     "metadata": {},
     "output_type": "display_data"
    },
    {
     "data": {
      "image/png": "[encoded data removed]",
      "text/plain": [
       "<matplotlib.figure.Figure at 0x205674e3a20>"
      ]
     },
     "metadata": {},
     "output_type": "display_data"
    },
    {
     "data": {
      "image/png": "[encoded data removed]",
      "text/plain": [
       "<matplotlib.figure.Figure at 0x20567c200b8>"
      ]
     },
     "metadata": {},
     "output_type": "display_data"
    },
    {
     "data": {
      "image/png": "[encoded data removed]",
      "text/plain": [
       "<matplotlib.figure.Figure at 0x205673e0dd8>"
      ]
     },
     "metadata": {},
     "output_type": "display_data"
    },
    {
     "data": {
      "image/png": "[encoded data removed]",
      "text/plain": [
       "<matplotlib.figure.Figure at 0x205675052b0>"
      ]
     },
     "metadata": {},
     "output_type": "display_data"
    },
    {
     "data": {
      "image/png": "[encoded data removed]",
      "text/plain": [
       "<matplotlib.figure.Figure at 0x2056737ee10>"
      ]
     },
     "metadata": {},
     "output_type": "display_data"
    },
    {
     "data": {
      "image/png": "[encoded data removed]",
      "text/plain": [
       "<matplotlib.figure.Figure at 0x20567380c50>"
      ]
     },
     "metadata": {},
     "output_type": "display_data"
    },
    {
     "data": {
      "image/png": "[encoded data removed]",
      "text/plain": [
       "<matplotlib.figure.Figure at 0x20567b626a0>"
      ]
     },
     "metadata": {},
     "output_type": "display_data"
    }
   ],
   "source": [
    "\n",
    "# Doing some analysis to understand the data better\n",
    "#sns.lmplot(x='Glucose', y='Outcome', data=diagnostic, ci=None) \n",
    "#sns.lmplot(x='Pregnancies', y='Outcome', data=diagnostic, ci=None)\n",
    "#sns.lmplot(x='BloodPressure', y='Outcome', data=diagnostic, ci=None)\n",
    "#sns.lmplot(x='SkinThickness', y='Outcome', data=diagnostic, ci=None)\n",
    "#sns.lmplot(x='Insulin', y='Outcome', data=diagnostic, ci=None)\n",
    "#sns.lmplot(x='BMI', y='Outcome', data=diagnostic, ci=None)\n",
    "#sns.lmplot(x='DiabetesPedigreeFunction', y='Outcome', data=diagnostic, ci=None)\n",
    "#sns.lmplot(x='Age', y='Outcome', data=diagnostic, ci=None)\n",
    "\n",
    "# Scatter plots for the heck of it\n",
    "diagnostic.plot(kind='scatter',x='Glucose',y='Outcome')\n",
    "diagnostic.plot(kind='scatter',x='Pregnancies',y='Outcome')\n",
    "diagnostic.plot(kind='scatter',x='BloodPressure',y='Outcome')\n",
    "diagnostic.plot(kind='scatter',x='SkinThickness',y='Outcome')\n",
    "diagnostic.plot(kind='scatter',x='Insulin',y='Outcome')\n",
    "diagnostic.plot(kind='scatter',x='BMI',y='Outcome')\n",
    "diagnostic.plot(kind='scatter',x='DiabetesPedigreeFunction',y='Outcome')\n",
    "diagnostic.plot(kind='scatter',x='Age',y='Outcome')"
   ]
  },
  {
   "cell_type": "code",
   "execution_count": 76,
   "metadata": {},
   "outputs": [
    {
     "data": {
      "text/plain": [
       "<matplotlib.axes._subplots.AxesSubplot at 0x20567c34c18>"
      ]
     },
     "execution_count": 76,
     "metadata": {},
     "output_type": "execute_result"
    },
    {
     "data": {
      "image/png": "[encoded data removed]",
      "text/plain": [
       "<matplotlib.figure.Figure at 0x20565864780>"
      ]
     },
     "metadata": {},
     "output_type": "display_data"
    }
   ],
   "source": [
    "# correlation matrix (ranges from -1 to 1)\n",
    "diagnostic.corr()\n",
    "sns.heatmap(diagnostic.corr())"
   ]
  },
  {
   "cell_type": "code",
   "execution_count": 77,
   "metadata": {
    "collapsed": true
   },
   "outputs": [],
   "source": [
    "# Define X, y, fit it\n",
    "#feature_cols = ['Glucose','Pregnancies','BloodPressure','SkinThickness','Insulin','BMI','DiabetesPedigreeFunction','Age']\n",
    "\n",
    "feature_cols = ['Glucose','Pregnancies','BloodPressure','Insulin','BMI','DiabetesPedigreeFunction','Age']\n",
    "\n",
    "#feature_cols = ['Glucose','Pregnancies','Insulin','BMI','DiabetesPedigreeFunction','Age']\n",
    "\n",
    "X = diagnostic[feature_cols]\n",
    "y = diagnostic.Outcome\n",
    "\n",
    "# Split the dataset and create training and testing datasets\n",
    "# Create a random variable and create a test and training set\n",
    "X_train, X_test, y_train, y_test = train_test_split(X,y,random_state=123)\n",
    "\n",
    "# a few helper functions - was not required after i discovered metrics.accuracy_score\n",
    "#def accuracy_report(_logreg):\n",
    "#    print(\"Accuracy: %0.2f%%\" % (100 * _logreg.score(X_test, y_test)))\n",
    "#\n",
    "    #Print the accuracy on the test and training dataset\n",
    "#    training_accuracy = _logreg.score(X_train, y_train)\n",
    "#    test_accuracy = _logreg.score(X_test, y_test)\n",
    "#    print(\"Accuracy on training data: %0.2f\" % (training_accuracy))"
   ]
  },
  {
   "cell_type": "code",
   "execution_count": 78,
   "metadata": {},
   "outputs": [
    {
     "name": "stdout",
     "output_type": "stream",
     "text": [
      "Precision score is  0.783333333333\n",
      "Recall score is  0.643835616438\n",
      "Accuracy score is  0.796875\n",
      "f1 score is  0.706766917293\n",
      "Result of Logistic Regression with all features\n",
      "*********************************************************************************\n",
      "['Glucose', 'Pregnancies', 'BloodPressure', 'Insulin', 'BMI', 'DiabetesPedigreeFunction', 'Age']\n",
      "[[ 0.03521086  0.12469387 -0.00858417 -0.00169846  0.09106365  0.78803999\n",
      "   0.01718128]]\n",
      "Intercept is  [-8.72793794]\n",
      "Confusion Matrix follows\n",
      "[[449  51]\n",
      " [117 151]]\n",
      "*********************************************************************************\n"
     ]
    }
   ],
   "source": [
    "# fit a linear regression model and store the class predictions\n",
    "logreg = LogisticRegression(C=1e9)\n",
    "\n",
    "logreg.fit(X_train,y_train)\n",
    "\n",
    "y_pred = logreg.predict(X_test)\n",
    "#print(accuracy_report(logreg))  - Was not required anymore\n",
    "\n",
    "# A fancier way to evaluate the model is to compute “precision” and “recall”. Precision and recall are defined:\n",
    "# Precision = TP / (TP+FP)\n",
    "# Recall = TP / (TP+FN) \n",
    "\n",
    "\n",
    "print(\"Precision score is \", metrics.precision_score(y_test, y_pred))\n",
    "print(\"Recall score is \", metrics.recall_score(y_test, y_pred))\n",
    "print(\"Accuracy score is \", metrics.accuracy_score(y_test, y_pred))\n",
    "print(\"f1 score is \", metrics.f1_score(y_test, y_pred))\n",
    "\n",
    "# THEN make predictions on X\n",
    "assorted_pred_class = logreg.predict(X)\n",
    "assorted_actual_class = y\n",
    "\n",
    "pd.DataFrame(diagnostic)\n",
    "\n",
    "diagnostic['PredOutcome'] = assorted_pred_class\n",
    "\n",
    "# Plot the class predictions (scatter then plot red line as above)\n",
    "#plt.scatter(diagnostic.Glucose, diagnostic.Outcome)\n",
    "#plt.plot(diagnostic.Glucose, assorted_pred_class, color='red')\n",
    "\n",
    "print('Result of Logistic Regression with all features')\n",
    "print('*********************************************************************************')\n",
    "coeff = logreg.coef_\n",
    "print(feature_cols)\n",
    "print(coeff)  \n",
    "print('Intercept is ',logreg.intercept_)\n",
    "print('Confusion Matrix follows')\n",
    "print(confusion_matrix(diagnostic.Outcome,diagnostic.PredOutcome))\n",
    "\n",
    "# Not required but was stupid enough to include the first time\n",
    "# rms = sqrt(mean_squared_error(diagnostic.Outcome, diagnostic.PredOutcome))\n",
    "# print('Root Mean Square error is ',rms)\n",
    "# Stupidity ends\n",
    "\n",
    "\n",
    "print('*********************************************************************************')\n",
    "# End of Logistics Regression modeling\n",
    "\n",
    "\n",
    "\n"
   ]
  },
  {
   "cell_type": "code",
   "execution_count": 79,
   "metadata": {},
   "outputs": [
    {
     "name": "stdout",
     "output_type": "stream",
     "text": [
      "Result of Ridge Regression with all features\n",
      "*********************************************************************************\n",
      "['Glucose', 'Pregnancies', 'BloodPressure', 'Insulin', 'BMI', 'DiabetesPedigreeFunction', 'Age']\n",
      "[ 0.00614668  0.02134125 -0.00123645 -0.00022686  0.01392959  0.1170436\n",
      "  0.00285919]\n",
      "Intercept is  -0.978933009476\n",
      "R-square error is  0.318930207693\n",
      "*********************************************************************************\n"
     ]
    }
   ],
   "source": [
    "# Ridge Regression begins\n",
    "\n",
    "# fit a linear regression model and store the class predictions\n",
    "clf = Ridge(alpha=0.5)\n",
    "\n",
    "clf.fit(X_train,y_train)\n",
    "\n",
    "y_pred = clf.predict(X_test)\n",
    "#print(accuracy_report(logreg))  - Was not required anymore\n",
    "#print(\"Precision score is \", metrics.precision_score(y_test, y_pred))\n",
    "#print(\"Recall score is \", metrics.recall_score(y_test, y_pred))\n",
    "#print(\"Accuracy score is \", metrics.accuracy_score(y_test, y_pred))\n",
    "#print(\"f1 score is \", metrics.f1_score(y_test, y_pred))\n",
    "\n",
    "# THEN make predictions on X\n",
    "assorted_pred_class = clf.predict(X)\n",
    "assorted_actual_class = y\n",
    "\n",
    "pd.DataFrame(diagnostic)\n",
    "\n",
    "diagnostic['PredOutcome'] = assorted_pred_class\n",
    "\n",
    "# Plot the class predictions (scatter then plot red line as above)\n",
    "#plt.scatter(diagnostic.Glucose, diagnostic.Outcome)\n",
    "#plt.plot(diagnostic.Glucose, assorted_pred_class, color='red')\n",
    "\n",
    "print('Result of Ridge Regression with all features')\n",
    "print('*********************************************************************************')\n",
    "coeff = clf.coef_\n",
    "print(feature_cols)\n",
    "print(coeff)  \n",
    "print('Intercept is ',clf.intercept_)\n",
    "print('R-square error is ',clf.score(X,y))\n",
    "#print('Confusion Matrix follows')\n",
    "#print(confusion_matrix(diagnostic.Outcome,diagnostic.PredOutcome))\n",
    "\n",
    "# Not required but was stupid enough to include the first time\n",
    "# rms = sqrt(mean_squared_error(diagnostic.Outcome, diagnostic.PredOutcome))\n",
    "# print('Root Mean Square error is ',rms)\n",
    "# Stupidity ends\n",
    "\n",
    "\n",
    "print('*********************************************************************************')\n",
    "# End of Ridge Regression modeling\n",
    "\n"
   ]
  },
  {
   "cell_type": "code",
   "execution_count": 80,
   "metadata": {},
   "outputs": [
    {
     "name": "stdout",
     "output_type": "stream",
     "text": [
      "Result of Naive Bayes Multinomial with all features\n",
      "*********************************************************************************\n",
      "['Glucose', 'Pregnancies', 'BloodPressure', 'Insulin', 'BMI', 'DiabetesPedigreeFunction', 'Age']\n",
      "[[-1.20295722 -4.47259578 -1.83637201 -0.9817049  -2.5915494  -6.76501309\n",
      "  -2.54907703]]\n",
      "Intercept is  [-1.0831081]\n",
      "Accuracy on Naive Bayes Multinomial on test data is : 70.83%\n",
      "Accuracy on Naive Bayes Multinomial on training data is : 68.40%\n"
     ]
    }
   ],
   "source": [
    "# Start of Naive Bayes Multinomial - I kinda like the name. Sounds so Innocent\n",
    "\n",
    "clf_mn = MultinomialNB().fit(X_train,y_train)\n",
    "\n",
    "\n",
    "print('Result of Naive Bayes Multinomial with all features')\n",
    "print('*********************************************************************************')\n",
    "coeff = clf_mn.coef_\n",
    "print(feature_cols)\n",
    "print(coeff)  \n",
    "print('Intercept is ',clf_mn.intercept_)\n",
    "#print('R-square error is ',clf_mn.score(X,y))\n",
    "\n",
    "\n",
    "#Print the accuracy on the test and training dataset for the Naive Bayes model\n",
    "print(\"Accuracy on Naive Bayes Multinomial on test data is : %0.2f%%\" % (100 * clf_mn.score(X_test, y_test)))\n",
    "print(\"Accuracy on Naive Bayes Multinomial on training data is : %0.2f%%\" % (100 * clf_mn.score(X_train, y_train)))\n",
    "\n"
   ]
  },
  {
   "cell_type": "code",
   "execution_count": 81,
   "metadata": {},
   "outputs": [
    {
     "name": "stdout",
     "output_type": "stream",
     "text": [
      "Result of Naive Bayes Bernoulli with all features\n",
      "*********************************************************************************\n",
      "['Glucose', 'Pregnancies', 'BloodPressure', 'Insulin', 'BMI', 'DiabetesPedigreeFunction', 'Age']\n",
      "[[-0.00508907 -0.00508907 -0.00508907 -0.00508907 -0.00508907 -0.00508907\n",
      "  -0.00508907]]\n",
      "Intercept is  [-1.0831081]\n",
      "Accuracy on Naive Bayes Bernoulli on test data is : 61.98%\n",
      "Accuracy on Naive Bayes Bernoulli on training data is : 66.15%\n"
     ]
    }
   ],
   "source": [
    "# Start of Naive Bayes - I kinda like the name. Sounds so Innocent\n",
    "\n",
    "clf_b = BernoulliNB().fit(X_train,y_train)\n",
    "\n",
    "\n",
    "print('Result of Naive Bayes Bernoulli with all features')\n",
    "print('*********************************************************************************')\n",
    "coeff = clf_b.coef_\n",
    "print(feature_cols)\n",
    "print(coeff)  \n",
    "print('Intercept is ',clf_b.intercept_)\n",
    "#print('R-square error is ',clf_mn.score(X,y))\n",
    "\n",
    "\n",
    "#Print the accuracy on the test and training dataset for the Naive Bayes model\n",
    "print(\"Accuracy on Naive Bayes Bernoulli on test data is : %0.2f%%\" % (100 * clf_b.score(X_test, y_test)))\n",
    "print(\"Accuracy on Naive Bayes Bernoulli on training data is : %0.2f%%\" % (100 * clf_b.score(X_train, y_train)))\n",
    "\n"
   ]
  },
  {
   "cell_type": "code",
   "execution_count": 84,
   "metadata": {},
   "outputs": [
    {
     "name": "stdout",
     "output_type": "stream",
     "text": [
      "With trees :  30 , OOB score is  0.732638888889  and the c-stat : 0.78957062277\n",
      "With trees :  50 , OOB score is  0.751736111111  and the c-stat : 0.812766202371\n",
      "With trees :  80 , OOB score is  0.755208333333  and the c-stat : 0.81852192932\n",
      "With trees :  100 , OOB score is  0.756944444444  and the c-stat : 0.832220559457\n",
      "With trees :  200 , OOB score is  0.743055555556  and the c-stat : 0.828018878784\n",
      "With trees :  300 , OOB score is  0.751736111111  and the c-stat : 0.821169563716\n",
      "With trees :  400 , OOB score is  0.746527777778  and the c-stat : 0.821169563716\n",
      "With trees :  500 , OOB score is  0.75  and the c-stat : 0.821169563716\n",
      "With trees :  1000 , OOB score is  0.753472222222  and the c-stat : 0.821169563716\n",
      "With trees :  2000 , OOB score is  0.753472222222  and the c-stat : 0.821169563716\n",
      "[ 0.26855789  0.07145222  0.08440317  0.09854103  0.18867873  0.12986051\n",
      "  0.15850645]\n"
     ]
    },
    {
     "data": {
      "image/png": "[encoded data removed]",
      "text/plain": [
       "<matplotlib.figure.Figure at 0x2056569b780>"
      ]
     },
     "metadata": {},
     "output_type": "display_data"
    }
   ],
   "source": [
    "# Random Forests - here i come.....\n",
    "\n",
    "X_sel = X[feature_cols]\n",
    "\n",
    "results = []\n",
    "n_estimator_options = [30, 50, 80, 100, 200, 300, 400, 500, 1000, 2000 ]\n",
    "\n",
    "for trees in n_estimator_options:\n",
    "    rfc = RandomForestClassifier(trees, oob_score=True, random_state=42, n_jobs=-1,criterion='gini', class_weight='balanced', max_depth=10)\n",
    "    r = rfc.fit(X_train, y_train)\n",
    "    y_oob= r.predict(X_test)\n",
    "    roc = roc_auc_score(y_test,y_oob)\n",
    "    print(\"With trees : \",trees, ', OOB score is ', r.oob_score_, ' and the c-stat :',roc)\n",
    "    results.append(roc)\n",
    "    \n",
    "#pd.Series(results, n_estimator_options).plot();\n",
    "\n",
    "print(r.feature_importances_)\n",
    "\n",
    "feature_importances = pd.Series(r.feature_importances_, index=X_sel.columns)\n",
    "sorted_feature_importances = feature_importances.sort_values(ascending=True)\n",
    "sorted_feature_importances.plot(kind='barh',figsize=(7,6));\n",
    "\n",
    "#\n",
    "#auc = roc_auc_score(y_test, rfc.predict_proba(X_test)[:,1])\n",
    "#\n",
    "#X_sel = X_sel.as_matrix()\n",
    "\n",
    "#for i in range(X_sel.shape[1]):\n",
    "#     X_t = X_test.copy()\n",
    "#     np.random.shuffle(X_t[:, i])\n",
    "#     shuff_auc = roc_auc_score(y_test, rfc.predict_proba(X_t)[:,1])\n",
    "#     scores[features[i]].append((auc-shuff_auc)/auc)\n",
    "#\n",
    "#print (\"Features sorted by their score:\")\n",
    "#print (sorted([(round(np.mean(score), 4), feat) for feat, score in scores.items()], reverse=True))\n",
    "#\n",
    "#rfc_features = [feat for feat in scores.keys()]\n",
    "#\n",
    "#print (rfc_features)\n",
    "#\n",
    "#ts = pd.DataFrame({'feature': rfc_features,\n",
    "#                   'score': [np.mean(score) for score in scores.values()],\n",
    "#                   })\n",
    "#\n",
    "#featp = ts.sort_values(by='score')[-20:].plot(kind='barh', x='feature', y='score', legend=False, figsize=(6, 10))\n",
    "#plt.title('Random Forest Classifier Feature Importance')\n",
    "#fig_featp = featp.get_figure()\n",
    "#fig_featp.savefig('feature_importance_rfc.png', bbox_inches='tight', pad_inches=1)\n",
    "\n",
    "\n",
    "\n",
    "\n",
    "## DecisionTreeClassifier\n",
    "#dt_clf = DecisionTreeClassifier(max_depth=None)\n",
    "#scores = cross_val_score(dt_clf, X_train, y_train)\n",
    "#print(\"DecisionTreeClassifier\", scores.mean())\n",
    "\n",
    "\n",
    "# Determine the prediction probability\n",
    "#pred_pro = dt_clf.predict_proba(X_test)\n",
    "#print(pred_pro)\n",
    "\n",
    "\n",
    "\n",
    "## RandomForestClassifier\n",
    "#rf_clf = RandomForestClassifier(max_depth=None)\n",
    "#scores = cross_val_score(rf_clf, X_train, y_train)\n",
    "#print(\"RandomForestClassifier\", scores.mean())\n",
    "\n",
    "## ExtraTreesClassifier\n",
    "#extra_trees_clf = ExtraTreesClassifier(max_depth=None)\n",
    "#scores = cross_val_score(extra_trees_clf, X_train, y_train)\n",
    "#print(\"ExtraTreesClassifier\", scores.mean())\n",
    "\n"
   ]
  },
  {
   "cell_type": "code",
   "execution_count": null,
   "metadata": {
    "collapsed": true
   },
   "outputs": [],
   "source": []
  }
 ],
 "metadata": {
  "celltoolbar": "Edit Metadata",
  "kernelspec": {
   "display_name": "Python 3",
   "language": "python",
   "name": "python3"
  },
  "language_info": {
   "codemirror_mode": {
    "name": "ipython",
    "version": 3
   },
   "file_extension": ".py",
   "mimetype": "text/x-python",
   "name": "python",
   "nbconvert_exporter": "python",
   "pygments_lexer": "ipython3",
   "version": "3.6.1"
  }
 },
 "nbformat": 4,
 "nbformat_minor": 2
}
